{
  "nbformat": 4,
  "nbformat_minor": 0,
  "metadata": {
    "colab": {
      "provenance": [],
      "gpuType": "T4",
      "toc_visible": true,
      "include_colab_link": true
    },
    "kernelspec": {
      "name": "python3",
      "display_name": "Python 3"
    },
    "language_info": {
      "name": "python"
    },
    "accelerator": "GPU"
  },
  "cells": [
    {
      "cell_type": "markdown",
      "metadata": {
        "id": "view-in-github",
        "colab_type": "text"
      },
      "source": [
        "<a href=\"https://colab.research.google.com/github/mahima8178/Goodreads_100k_books-Analysis-and-Recommendation/blob/main/DA_GoodReads_100k_books_(1).ipynb\" target=\"_parent\"><img src=\"https://colab.research.google.com/assets/colab-badge.svg\" alt=\"Open In Colab\"/></a>"
      ]
    },
    {
      "cell_type": "code",
      "source": [
        "# @title\n",
        "from google.colab import drive\n",
        "drive.mount('/content/drive')"
      ],
      "metadata": {
        "id": "D0MwKTeuntnD",
        "collapsed": true,
        "cellView": "form"
      },
      "execution_count": null,
      "outputs": []
    },
    {
      "cell_type": "code",
      "source": [
        "!cd /content/drive/MyDrive/Kaggle/\n",
        "!ls /content/drive/MyDrive/Kaggle/"
      ],
      "metadata": {
        "id": "y6qTIsWPn-Fh"
      },
      "execution_count": null,
      "outputs": []
    },
    {
      "cell_type": "code",
      "source": [
        "!pip install skimpy"
      ],
      "metadata": {
        "id": "MVPo703-MD4C"
      },
      "execution_count": null,
      "outputs": []
    },
    {
      "cell_type": "code",
      "source": [
        "!mkdir ~/.kaggle\n",
        "!touch ~/.kaggle/kaggle.json\n",
        "\n",
        "api_token = {\"username\":\"mahimathakur\",\"key\":\"7503a502a434f3f056a256ba01ffa25d\"}\n",
        "\n",
        "import json\n",
        "\n",
        "with open('/root/.kaggle/kaggle.json', 'w') as file:\n",
        "    json.dump(api_token, file)\n",
        "\n",
        "!chmod 600 ~/.kaggle/kaggle.json"
      ],
      "metadata": {
        "id": "R_hYjH6Dohbz"
      },
      "execution_count": null,
      "outputs": []
    },
    {
      "cell_type": "code",
      "source": [
        "!kaggle datasets download -d mdhamani/goodreads-books-100k"
      ],
      "metadata": {
        "id": "tTqCH6CMn4JW"
      },
      "execution_count": null,
      "outputs": []
    },
    {
      "cell_type": "code",
      "source": [
        "from zipfile import ZipFile\n",
        "\n",
        "zip = ZipFile('goodreads-books-100k.zip')\n",
        "zip.extractall()"
      ],
      "metadata": {
        "id": "VUlruY_Bqaok"
      },
      "execution_count": null,
      "outputs": []
    },
    {
      "cell_type": "code",
      "source": [
        "!pip install colorama"
      ],
      "metadata": {
        "id": "OFkDpOqUppA9"
      },
      "execution_count": null,
      "outputs": []
    },
    {
      "cell_type": "code",
      "source": [
        "import pandas as pd\n",
        "import seaborn as sns\n",
        "import matplotlib.pyplot as plt\n",
        "import numpy as np\n",
        "from PIL import Image as im\n",
        "from wordcloud import WordCloud, STOPWORDS, ImageColorGenerator\n",
        "!pip install colorama\n",
        "%matplotlib inline\n",
        "\n",
        "from colorama import Fore, Back, Style\n",
        "red = Fore.RED\n",
        "grn = Fore.GREEN\n",
        "blu = Fore.BLUE\n",
        "ylw = Fore.YELLOW\n",
        "wht = Fore.WHITE\n",
        "mag = Fore.MAGENTA\n",
        "\n",
        "palette = sns.color_palette(\"bright\",15)\n",
        "sns.palplot(palette)\n",
        "sns.set_palette(\"Paired\")"
      ],
      "metadata": {
        "id": "I2SVXv3ppRWs"
      },
      "execution_count": null,
      "outputs": []
    },
    {
      "cell_type": "markdown",
      "source": [],
      "metadata": {
        "id": "zvNvfyzgRMVb"
      }
    },
    {
      "cell_type": "code",
      "source": [
        "import re\n",
        "import numpy  as np\n",
        "import pandas as pd\n",
        "import plotly.graph_objects as go\n",
        "import plotly.express as px\n",
        "import plotly.colors as colors\n",
        "from wordcloud import WordCloud\n",
        "from sklearn.neighbors import NearestNeighbors\n",
        "import warnings\n",
        "warnings.filterwarnings(\"ignore\")"
      ],
      "metadata": {
        "id": "-Kw8-FeLRMqh"
      },
      "execution_count": null,
      "outputs": []
    },
    {
      "cell_type": "code",
      "source": [],
      "metadata": {
        "id": "YVXOce2ZqY2L"
      },
      "execution_count": null,
      "outputs": []
    },
    {
      "cell_type": "code",
      "source": [
        "!ls"
      ],
      "metadata": {
        "id": "skjYkBxLpx6-"
      },
      "execution_count": null,
      "outputs": []
    },
    {
      "cell_type": "code",
      "source": [
        "data = pd.read_csv('GoodReads_100k_books.csv')\n",
        "data[:50]"
      ],
      "metadata": {
        "id": "Ix-hXcthoxle"
      },
      "execution_count": null,
      "outputs": []
    },
    {
      "cell_type": "code",
      "source": [
        "df = data"
      ],
      "metadata": {
        "id": "-gnOdkTKMN9Z"
      },
      "execution_count": null,
      "outputs": []
    },
    {
      "cell_type": "code",
      "source": [
        "from skimpy import skim\n",
        "\n",
        "skim(df)"
      ],
      "metadata": {
        "id": "cfW14p4fMOBB"
      },
      "execution_count": null,
      "outputs": []
    },
    {
      "cell_type": "code",
      "source": [
        "data.isnull().sum()"
      ],
      "metadata": {
        "id": "F13UHAypMOEc"
      },
      "execution_count": null,
      "outputs": []
    },
    {
      "cell_type": "code",
      "source": [
        "def clean(feature):\n",
        "    cleaned_feature = list()\n",
        "    for feat in data[feature]:\n",
        "        if len(feat.split(',')) > 1:\n",
        "            temp = feat.split(',')\n",
        "            for a in temp:\n",
        "                cleaned_feature.append(a)\n",
        "        else:\n",
        "            cleaned_feature.append(feat)\n",
        "    return cleaned_feature"
      ],
      "metadata": {
        "id": "pywSjah6PL1Z"
      },
      "execution_count": null,
      "outputs": []
    },
    {
      "cell_type": "code",
      "source": [
        "def plot_distribution(data,feat,color,alpha=1):\n",
        "    sns.set(font_scale=1);\n",
        "    sns.displot(data[feat],color=color,kde=True,aspect=15/10,alpha = alpha,);\n",
        "    print(f'{red}Max value of {feat} is {data[feat].max()}\\n{blu}Min value of {feat} is {data[feat].min()}\\n{grn}Std value of {feat} is {data[feat].std()}\\n{ylw}Mean value of {feat} is {data[feat].mean()}\\n{mag}Median value of {feat} is {data[feat].median()}')"
      ],
      "metadata": {
        "id": "horzkyZTPcKI"
      },
      "execution_count": null,
      "outputs": []
    },
    {
      "cell_type": "code",
      "source": [
        "all_authors = clean('author')\n",
        "authors = pd.DataFrame(all_authors, columns = ['authors'])\n",
        "author_counts = authors.value_counts()\n",
        "authors['books_count'] = authors['authors'].apply(lambda x: author_counts[x])\n",
        "sorted_authors = authors.sort_values(by='books_count',ascending=False)\n",
        "sorted_authors = sorted_authors.drop_duplicates(['authors'])\n",
        "sorted_authors = sorted_authors.reset_index(drop = True)"
      ],
      "metadata": {
        "id": "Nh9wTR1MNBDR"
      },
      "execution_count": null,
      "outputs": []
    },
    {
      "cell_type": "code",
      "source": [
        "sorted_authors"
      ],
      "metadata": {
        "id": "fYDb2QV7NBGZ"
      },
      "execution_count": null,
      "outputs": []
    },
    {
      "cell_type": "code",
      "source": [
        "# Python program to generate WordCloud\n",
        "\n",
        "# importing all necessary modules\n",
        "from wordcloud import WordCloud, STOPWORDS\n",
        "import matplotlib.pyplot as plt\n",
        "import pandas as pd\n",
        "\n",
        "comment_words = ''\n",
        "stopwords = set(STOPWORDS)\n",
        "\n",
        "# iterate through the csv file\n",
        "for author in sorted_authors.authors:\n",
        "\n",
        "\t# typecaste each val to string\n",
        "\tauthor = str(author)\n",
        "\n",
        "\t# split the value\n",
        "\ttokens = author.split()\n",
        "\n",
        "\t# Converts each token into lowercase\n",
        "\tfor i in range(len(tokens)):\n",
        "\t\ttokens[i] = tokens[i].lower()\n",
        "\n",
        "\tcomment_words += \" \".join(tokens)+\" \"\n",
        "\n",
        "wordcloud = WordCloud(width = 800, height = 800,\n",
        "\t\t\t\tbackground_color ='white',\n",
        "\t\t\t\tstopwords = stopwords,\n",
        "\t\t\t\tmin_font_size = 10).generate(comment_words)\n",
        "\n",
        "# plot the WordCloud image\n",
        "plt.figure(figsize = (8, 8), facecolor = None)\n",
        "plt.imshow(wordcloud)\n",
        "plt.axis(\"off\")\n",
        "plt.tight_layout(pad = 0)\n",
        "\n",
        "plt.show()\n"
      ],
      "metadata": {
        "id": "LELf0XFWN00h"
      },
      "execution_count": null,
      "outputs": []
    },
    {
      "cell_type": "code",
      "source": [],
      "metadata": {
        "id": "CP9QU5unN03I"
      },
      "execution_count": null,
      "outputs": []
    },
    {
      "cell_type": "code",
      "source": [],
      "metadata": {
        "id": "5ZYCQfNHN05r"
      },
      "execution_count": null,
      "outputs": []
    },
    {
      "cell_type": "code",
      "source": [
        "from wordcloud import WordCloud, STOPWORDS, ImageColorGenerator"
      ],
      "metadata": {
        "id": "Qg82_YqmNSVs"
      },
      "execution_count": null,
      "outputs": []
    },
    {
      "cell_type": "code",
      "source": [
        "data['genre'] = data['genre'].fillna('None')\n",
        "all_genres = clean('genre')\n",
        "genres = pd.DataFrame(all_genres, columns = ['genres'])\n",
        "genre_counts = genres.value_counts()\n",
        "genres['genre_count'] = genres['genres'].apply(lambda x: genre_counts[x])\n",
        "sorted_genres = genres.sort_values(by='genre_count',ascending=False)\n",
        "sorted_genres = sorted_genres.drop_duplicates(['genres'])\n",
        "sorted_genres = sorted_genres.reset_index(drop = True)"
      ],
      "metadata": {
        "id": "N4JjZCXtNScu"
      },
      "execution_count": null,
      "outputs": []
    },
    {
      "cell_type": "code",
      "source": [
        "sorted_genres"
      ],
      "metadata": {
        "id": "ZBzLsKdyOrJ0"
      },
      "execution_count": null,
      "outputs": []
    },
    {
      "cell_type": "code",
      "source": [
        "# Python program to generate WordCloud\n",
        "\n",
        "# importing all necessary modules\n",
        "# from wordcloud import WordCloud, STOPWORDS\n",
        "# import matplotlib.pyplot as plt\n",
        "# import pandas as pd\n",
        "\n",
        "comment_words = ''\n",
        "stopwords = set(STOPWORDS)\n",
        "\n",
        "# iterate through the csv file\n",
        "for genre in sorted_genres.genres:\n",
        "\n",
        "\t# typecaste each val to string\n",
        "\tgenre = str(genre)\n",
        "\n",
        "\t# split the value\n",
        "\ttokens = genre.split()\n",
        "\n",
        "\t# Converts each token into lowercase\n",
        "\tfor i in range(len(tokens)):\n",
        "\t\ttokens[i] = tokens[i].lower()\n",
        "\n",
        "\tcomment_words += \" \".join(tokens)+\" \"\n",
        "\n",
        "wordcloud = WordCloud(width = 800, height = 800,\n",
        "\t\t\t\tbackground_color ='white',\n",
        "\t\t\t\tstopwords = stopwords,\n",
        "\t\t\t\tmin_font_size = 10).generate(comment_words)\n",
        "\n",
        "# plot the WordCloud image\n",
        "plt.figure(figsize = (8, 8), facecolor = None)\n",
        "plt.imshow(wordcloud)\n",
        "plt.axis(\"off\")\n",
        "plt.tight_layout(pad = 0)\n",
        "\n",
        "plt.show()\n"
      ],
      "metadata": {
        "id": "Ln8Nqhs4NBI7"
      },
      "execution_count": null,
      "outputs": []
    },
    {
      "cell_type": "code",
      "source": [
        "plot_distribution(sorted_genres[:120],'genre_count','lime',0.4);"
      ],
      "metadata": {
        "id": "I_mH_ltgMOIf"
      },
      "execution_count": null,
      "outputs": []
    },
    {
      "cell_type": "code",
      "source": [
        "data.rating.mean()"
      ],
      "metadata": {
        "id": "C9FiSvpoWjCp"
      },
      "execution_count": null,
      "outputs": []
    },
    {
      "cell_type": "code",
      "source": [
        "# What are the most frequently repeated books on the list? (Top 20 books)\n",
        "top_20_books = data['title'].value_counts()[:20]\n",
        "\n",
        "# Define a color palette with enough unique colors\n",
        "color_palette = colors.qualitative.Plotly\n",
        "\n",
        "# Create a list of distinct colors for each bar\n",
        "bar_colors = [color_palette[i % len(color_palette)] for i in range(len(top_20_books))]\n",
        "\n",
        "# Create a Plotly bar plot\n",
        "fig = go.Figure(data=[go.Bar(\n",
        "    x=top_20_books,\n",
        "    y=data.index,\n",
        "    orientation='h',\n",
        "    marker=dict(color=bar_colors)  # Set the bar colors using the list of colors\n",
        ")])\n",
        "\n",
        "# Update the layout with dark background and white font\n",
        "fig.update_layout(\n",
        "    plot_bgcolor='rgb(17, 17, 17)',  # Dark background color\n",
        "    paper_bgcolor='rgb(17, 17, 17)',  # Dark background color\n",
        "    font=dict(color='white'),  # White font color\n",
        "    title=\"Most Occurring Books\",\n",
        "    xaxis_title=\"Number of occurrences\",\n",
        "    yaxis_title=\"Books\"\n",
        ")\n",
        "\n",
        "# Show the plot\n",
        "fig.show()"
      ],
      "metadata": {
        "id": "ZS0JZ2h_Q10Z"
      },
      "execution_count": null,
      "outputs": []
    },
    {
      "cell_type": "code",
      "source": [
        "top_20_most_rated_books = data.sort_values('totalratings', ascending=False).head(20)\n",
        "\n",
        "# Define the number of bars and obtain a color palette with enough unique colors\n",
        "num_bars = len(top_20_most_rated_books)\n",
        "color_palette = colors.qualitative.Set3\n",
        "\n",
        "# Create a list of distinct colors for each bar\n",
        "bar_colors = color_palette[:num_bars]\n",
        "\n",
        "# Create a Plotly bar plot\n",
        "fig = go.Figure(data=[go.Bar(\n",
        "    x=top_20_most_rated_books['totalratings'],\n",
        "    y=data['title'],\n",
        "    orientation='h',\n",
        "    marker=dict(color=bar_colors)  # Set the bar colors using the list of colors\n",
        ")])\n",
        "\n",
        "# Update the layout with dark background and white font\n",
        "fig.update_layout(\n",
        "    plot_bgcolor='rgb(17, 17, 17)',  # Dark background color\n",
        "    paper_bgcolor='rgb(17, 17, 17)',  # Dark background color\n",
        "    font=dict(color='white'),  # White font color\n",
        "    title=\"Top 20 Most Rated Books\",\n",
        "    xaxis_title=\"Number of Ratings\",\n",
        "    yaxis_title=\"Book Title\"\n",
        ")\n",
        "\n",
        "# Show the plot\n",
        "fig.show()"
      ],
      "metadata": {
        "id": "aJ4R5ibdQ13I"
      },
      "execution_count": null,
      "outputs": []
    },
    {
      "cell_type": "code",
      "source": [
        "top_rated_books = data[data['rating'] > 3.7]\n",
        "top_rated_books = top_rated_books.sort_values(by='rating', ascending=False).head(20)"
      ],
      "metadata": {
        "id": "EYomv79fWxYl"
      },
      "execution_count": null,
      "outputs": []
    },
    {
      "cell_type": "code",
      "source": [
        "top_rated_books"
      ],
      "metadata": {
        "id": "lgLMdmoAT6SF"
      },
      "execution_count": null,
      "outputs": []
    },
    {
      "cell_type": "code",
      "source": [
        "top_books = data[data['totalratings'] > 2990]\n",
        "top_books = top_books.sort_values(by='totalratings', ascending=False).head(20)"
      ],
      "metadata": {
        "id": "bvqvjBNot0cR"
      },
      "execution_count": null,
      "outputs": []
    },
    {
      "cell_type": "code",
      "source": [
        "top_books.rating.mean()"
      ],
      "metadata": {
        "id": "ThIbvKqTMOPj"
      },
      "execution_count": null,
      "outputs": []
    },
    {
      "cell_type": "code",
      "source": [
        "top_reviewed_rated = top_books[top_books['rating'] > 4.0]\n",
        "top_reviewed_rated = top_books.sort_values(by='rating', ascending=False).head(20)"
      ],
      "metadata": {
        "id": "mXZA0xohMOSu"
      },
      "execution_count": null,
      "outputs": []
    },
    {
      "cell_type": "code",
      "source": [
        "top_reviewed_rated.head()"
      ],
      "metadata": {
        "id": "W7LacFfWMOVn"
      },
      "execution_count": null,
      "outputs": []
    },
    {
      "cell_type": "code",
      "source": [
        "sns.set(style=\"darkgrid\")\n",
        "plt.figure(figsize=(10, 10))\n",
        "\n",
        "color = sns.color_palette(\"Set2\")\n",
        "ax = sns.barplot(x=\"rating\", y=\"title\", data=top_reviewed_rated, palette=color)\n",
        "\n",
        "for i in ax.patches:\n",
        "    ax.text(i.get_width() + .05, i.get_y() + 0.5, str(i.get_width()), fontsize = 10, color = 'k')\n",
        "plt.show()"
      ],
      "metadata": {
        "id": "SIptbBH2YnUj"
      },
      "execution_count": null,
      "outputs": []
    },
    {
      "cell_type": "markdown",
      "source": [],
      "metadata": {
        "id": "mxUtrpM01TaH"
      }
    },
    {
      "cell_type": "code",
      "source": [],
      "metadata": {
        "id": "2xJl43Sw1Tla"
      },
      "execution_count": null,
      "outputs": []
    },
    {
      "cell_type": "code",
      "source": [],
      "metadata": {
        "id": "YEfbESQo1Tos"
      },
      "execution_count": null,
      "outputs": []
    },
    {
      "cell_type": "markdown",
      "source": [
        "So Top Rated and Reviewed Books fall into which category??"
      ],
      "metadata": {
        "id": "CIWiW5XW1Ul3"
      }
    },
    {
      "cell_type": "code",
      "source": [
        "# Python program to generate WordCloud\n",
        "\n",
        "# importing all necessary modules\n",
        "# from wordcloud import WordCloud, STOPWORDS\n",
        "# import matplotlib.pyplot as plt\n",
        "# import pandas as pd\n",
        "\n",
        "comment_words = ''\n",
        "stopwords = set(STOPWORDS)\n",
        "\n",
        "# iterate through the csv file\n",
        "for genre in top_reviewed_rated.genre:\n",
        "\n",
        "\t# typecaste each val to string\n",
        "\tgenre = str(genre)\n",
        "\n",
        "\t# split the value\n",
        "\ttokens = genre.split()\n",
        "\n",
        "\t# Converts each token into lowercase\n",
        "\tfor i in range(len(tokens)):\n",
        "\t\ttokens[i] = tokens[i].lower()\n",
        "\n",
        "\tcomment_words += \" \".join(tokens)+\" \"\n",
        "\n",
        "wordcloud = WordCloud(width = 800, height = 800,\n",
        "\t\t\t\tbackground_color ='white',\n",
        "\t\t\t\tstopwords = stopwords,\n",
        "\t\t\t\tmin_font_size = 10).generate(comment_words)\n",
        "\n",
        "# plot the WordCloud image\n",
        "plt.figure(figsize = (8, 8), facecolor = None)\n",
        "plt.imshow(wordcloud)\n",
        "plt.axis(\"off\")\n",
        "plt.tight_layout(pad = 0)\n",
        "\n",
        "plt.show()\n"
      ],
      "metadata": {
        "id": "jD5IN41A1RY_"
      },
      "execution_count": null,
      "outputs": []
    },
    {
      "cell_type": "code",
      "source": [
        "# Python program to generate WordCloud\n",
        "\n",
        "# importing all necessary modules\n",
        "# from wordcloud import WordCloud, STOPWORDS\n",
        "# import matplotlib.pyplot as plt\n",
        "# import pandas as pd\n",
        "\n",
        "comment_words = ''\n",
        "stopwords = set(STOPWORDS)\n",
        "\n",
        "# iterate through the csv file\n",
        "for author in top_reviewed_rated.author:\n",
        "\n",
        "\t# typecaste each val to string\n",
        "\tauyhor = str(author)\n",
        "\n",
        "\t# split the value\n",
        "\ttokens = author.split()\n",
        "\n",
        "\t# Converts each token into lowercase\n",
        "\tfor i in range(len(tokens)):\n",
        "\t\ttokens[i] = tokens[i].lower()\n",
        "\n",
        "\tcomment_words += \" \".join(tokens)+\" \"\n",
        "\n",
        "wordcloud = WordCloud(width = 800, height = 800,\n",
        "\t\t\t\tbackground_color ='white',\n",
        "\t\t\t\tstopwords = stopwords,\n",
        "\t\t\t\tmin_font_size = 10).generate(comment_words)\n",
        "\n",
        "# plot the WordCloud image\n",
        "plt.figure(figsize = (8, 8), facecolor = None)\n",
        "plt.imshow(wordcloud)\n",
        "plt.axis(\"off\")\n",
        "plt.tight_layout(pad = 0)\n",
        "\n",
        "plt.show()\n"
      ],
      "metadata": {
        "id": "41ATyrLz1qLq"
      },
      "execution_count": null,
      "outputs": []
    },
    {
      "cell_type": "code",
      "source": [
        "most_books = data.groupby('author')['title'].count().reset_index().sort_values('title', ascending=False).head(20)\n",
        "most_books.head()"
      ],
      "metadata": {
        "id": "I9Z6K8faSccT"
      },
      "execution_count": null,
      "outputs": []
    },
    {
      "cell_type": "code",
      "source": [
        "# Group the dataframe by authors and count the number of titles for each author\n",
        "most_books = data.groupby('author')['title'].count().reset_index().sort_values('title', ascending=False).head(20)\n",
        "\n",
        "# Create a Plotly bar plot\n",
        "fig = go.Figure(data=[go.Bar(\n",
        "    x=most_books['title'],\n",
        "    y=most_books['author'],\n",
        "    orientation='h',\n",
        "    marker=dict(color=colors.qualitative.Pastel)  # Set the bar colors using a qualitative color palette\n",
        ")])\n",
        "\n",
        "# Update the layout with dark background and white font\n",
        "fig.update_layout(\n",
        "    plot_bgcolor='rgb(17, 17, 17)',  # Dark background color\n",
        "    paper_bgcolor='rgb(17, 17, 17)',  # Dark background color\n",
        "    font=dict(color='white'),  # White font color\n",
        "    title=\"Top 20 Authors with Most Books\",\n",
        "    xaxis_title=\"Total Number of Books\",\n",
        "    yaxis_title=\"Authors\"\n",
        ")\n",
        "\n",
        "# Add labels to the bars\n",
        "for i, val in enumerate(most_books['title']):\n",
        "    fig.add_annotation(\n",
        "        x=val + 0.3,\n",
        "        y=most_books['author'].iloc[i],\n",
        "        text=str(val),\n",
        "        font=dict(color='black', size=10),\n",
        "        showarrow=False\n",
        "    )\n",
        "\n",
        "# Show the plot\n",
        "fig.show()"
      ],
      "metadata": {
        "id": "MBOPzPNv1qTm"
      },
      "execution_count": null,
      "outputs": []
    },
    {
      "cell_type": "code",
      "source": [
        "## Top 20 Authors with Highest Rated Books\n",
        "\n",
        "high_rated_author = data[data['rating'] >= 4.3]\n",
        "high_rated_author = high_rated_author.groupby('author')['title'].count().reset_index().sort_values('title', ascending=False).head(20)\n",
        "\n",
        "# Define the number of bars and obtain a color palette with enough unique colors\n",
        "num_bars = len(high_rated_author)\n",
        "color_palette = colors.qualitative.Set2\n",
        "\n",
        "# Create a list of distinct colors for each bar\n",
        "bar_colors = color_palette[:num_bars]\n",
        "\n",
        "# Create a Plotly bar plot\n",
        "fig = go.Figure(data=[go.Bar(\n",
        "    x=high_rated_author['title'],\n",
        "    y=high_rated_author['author'],\n",
        "    orientation='h',\n",
        "    marker=dict(color=bar_colors)  # Set the bar colors using the list of colors\n",
        ")])\n",
        "\n",
        "# Update the layout with dark background and white font\n",
        "fig.update_layout(\n",
        "    plot_bgcolor='rgb(17, 17, 17)',  # Dark background color\n",
        "    paper_bgcolor='rgb(17, 17, 17)',  # Dark background color\n",
        "    font=dict(color='white'),  # White font color\n",
        "    title=\"Top 20 Authors with Highest Rated Books\",\n",
        "    xaxis_title=\"Number of Books\",\n",
        "    yaxis_title=\"Authors\"\n",
        ")\n",
        "\n",
        "# Show the plot\n",
        "fig.show()"
      ],
      "metadata": {
        "id": "T_ErNMrX1qW4"
      },
      "execution_count": null,
      "outputs": []
    },
    {
      "cell_type": "code",
      "source": [
        "rating = data['rating'].astype(float)\n",
        "\n",
        "fig = px.histogram(rating, histnorm='density')\n",
        "\n",
        "fig.update_layout(\n",
        "    plot_bgcolor='rgb(17, 17, 17)',  # Dark background color\n",
        "    paper_bgcolor='rgb(17, 17, 17)',  # Dark background color\n",
        "    font=dict(color='white'),  # White font color\n",
        "    title=\"Distribution of Average Ratings\",\n",
        "    xaxis_title=\"Average Rating\",\n",
        "    yaxis_title=\"Density\"\n",
        ")\n",
        "\n",
        "fig.show()"
      ],
      "metadata": {
        "id": "lIBHJisQ1qaV"
      },
      "execution_count": null,
      "outputs": []
    },
    {
      "cell_type": "code",
      "source": [],
      "metadata": {
        "id": "PlcTo3yU1Rbv"
      },
      "execution_count": null,
      "outputs": []
    },
    {
      "cell_type": "code",
      "source": [],
      "metadata": {
        "id": "DZLZa0Cr1Reb"
      },
      "execution_count": null,
      "outputs": []
    },
    {
      "cell_type": "code",
      "source": [],
      "metadata": {
        "id": "acO3gcf51RhQ"
      },
      "execution_count": null,
      "outputs": []
    },
    {
      "cell_type": "code",
      "source": [],
      "metadata": {
        "id": "f5KhOTL21Rky"
      },
      "execution_count": null,
      "outputs": []
    },
    {
      "cell_type": "code",
      "source": [],
      "metadata": {
        "id": "Y9sfYv2jfaWo"
      },
      "execution_count": null,
      "outputs": []
    },
    {
      "cell_type": "markdown",
      "source": [
        "Top 20 Top Voted Books"
      ],
      "metadata": {
        "id": "lQeQ-xUcfcIq"
      }
    },
    {
      "cell_type": "code",
      "source": [
        "top_vote = top_reviewed_rated.sort_values(by='rating', ascending=False).head(20)"
      ],
      "metadata": {
        "id": "xnwQDjUafaZx"
      },
      "execution_count": null,
      "outputs": []
    },
    {
      "cell_type": "code",
      "source": [
        "top_vote.head(1)"
      ],
      "metadata": {
        "id": "e25wJpySfaco"
      },
      "execution_count": null,
      "outputs": []
    },
    {
      "cell_type": "code",
      "source": [
        "sns.set(style=\"darkgrid\")\n",
        "plt.figure(figsize=(10, 10))\n",
        "\n",
        "color = sns.color_palette(\"Set2\")\n",
        "ax = sns.barplot(x=\"totalratings\", y=\"title\", data=top_vote, palette=color)\n",
        "\n",
        "for i in ax.patches:\n",
        "    ax.text(i.get_width() + .05, i.get_y() + 0.5, str(i.get_width()), fontsize = 10, color = 'k')\n",
        "plt.show()\n",
        "\n"
      ],
      "metadata": {
        "id": "NpSH4rsUfagB"
      },
      "execution_count": null,
      "outputs": []
    },
    {
      "cell_type": "code",
      "source": [],
      "metadata": {
        "id": "-z91mbTa2bVe"
      },
      "execution_count": null,
      "outputs": []
    },
    {
      "cell_type": "code",
      "source": [
        "# Python program to generate WordCloud\n",
        "\n",
        "# importing all necessary modules\n",
        "# from wordcloud import WordCloud, STOPWORDS\n",
        "# import matplotlib.pyplot as plt\n",
        "# import pandas as pd\n",
        "\n",
        "comment_words = ''\n",
        "stopwords = set(STOPWORDS)\n",
        "\n",
        "# iterate through the csv file\n",
        "for title in top_vote.title:\n",
        "\n",
        "\t# typecaste each val to string\n",
        "\ttitle = str(title)\n",
        "\n",
        "\t# split the value\n",
        "\ttokens = title.split()\n",
        "\n",
        "\t# Converts each token into lowercase\n",
        "\tfor i in range(len(tokens)):\n",
        "\t\ttokens[i] = tokens[i].lower()\n",
        "\n",
        "\tcomment_words += \" \".join(tokens)+\" \"\n",
        "\n",
        "wordcloud = WordCloud(width = 800, height = 800,\n",
        "\t\t\t\tbackground_color ='white',\n",
        "\t\t\t\tstopwords = stopwords,\n",
        "\t\t\t\tmin_font_size = 10).generate(comment_words)\n",
        "\n",
        "# plot the WordCloud image\n",
        "plt.figure(figsize = (8, 8), facecolor = None)\n",
        "plt.imshow(wordcloud)\n",
        "plt.axis(\"off\")\n",
        "plt.tight_layout(pad = 0)\n",
        "\n",
        "plt.show()\n"
      ],
      "metadata": {
        "id": "NM2lzVBo2bYv"
      },
      "execution_count": null,
      "outputs": []
    },
    {
      "cell_type": "code",
      "source": [
        "# Python program to generate WordCloud\n",
        "\n",
        "# importing all necessary modules\n",
        "# from wordcloud import WordCloud, STOPWORDS\n",
        "# import matplotlib.pyplot as plt\n",
        "# import pandas as pd\n",
        "\n",
        "comment_words = ''\n",
        "stopwords = set(STOPWORDS)\n",
        "\n",
        "# iterate through the csv file\n",
        "for author in top_vote.author:\n",
        "\n",
        "\t# typecaste each val to string\n",
        "\tauthor = str(author)\n",
        "\n",
        "\t# split the value\n",
        "\ttokens = author.split()\n",
        "\n",
        "\t# Converts each token into lowercase\n",
        "\tfor i in range(len(tokens)):\n",
        "\t\ttokens[i] = tokens[i].lower()\n",
        "\n",
        "\tcomment_words += \" \".join(tokens)+\" \"\n",
        "\n",
        "wordcloud = WordCloud(width = 800, height = 800,\n",
        "\t\t\t\tbackground_color ='white',\n",
        "\t\t\t\tstopwords = stopwords,\n",
        "\t\t\t\tmin_font_size = 10).generate(comment_words)\n",
        "\n",
        "# plot the WordCloud image\n",
        "plt.figure(figsize = (8, 8), facecolor = None)\n",
        "plt.imshow(wordcloud)\n",
        "plt.axis(\"off\")\n",
        "plt.tight_layout(pad = 0)\n",
        "\n",
        "plt.show()\n"
      ],
      "metadata": {
        "id": "iHjDoNGL2bbN"
      },
      "execution_count": null,
      "outputs": []
    },
    {
      "cell_type": "code",
      "source": [
        "# Group the dataframe by authors and count the number of titles for each author\n",
        "most_books = data.groupby('author')['title'].count().reset_index().sort_values('title', ascending=False).head(20)\n",
        "\n",
        "# Create a Plotly bar plot\n",
        "fig = go.Figure(data=[go.Bar(\n",
        "    x=most_books['title'],\n",
        "    y=most_books['author'],\n",
        "    orientation='h',\n",
        "    marker=dict(color=colors.qualitative.Pastel)  # Set the bar colors using a qualitative color palette\n",
        ")])\n",
        "\n",
        "# Update the layout with dark background and white font\n",
        "fig.update_layout(\n",
        "    plot_bgcolor='rgb(17, 17, 17)',  # Dark background color\n",
        "    paper_bgcolor='rgb(17, 17, 17)',  # Dark background color\n",
        "    font=dict(color='white'),  # White font color\n",
        "    title=\"Top 20 Authors with Most Books\",\n",
        "    xaxis_title=\"Total Number of Books\",\n",
        "    yaxis_title=\"Authors\"\n",
        ")\n",
        "\n",
        "# Add labels to the bars\n",
        "for i, val in enumerate(most_books['title']):\n",
        "    fig.add_annotation(\n",
        "        x=val + 0.3,\n",
        "        y=most_books['author'].iloc[i],\n",
        "        text=str(val),\n",
        "        font=dict(color='black', size=10),\n",
        "        showarrow=False\n",
        "    )\n",
        "\n",
        "# Show the plot\n",
        "fig.show()"
      ],
      "metadata": {
        "id": "Pdac5qhy2bds"
      },
      "execution_count": null,
      "outputs": []
    },
    {
      "cell_type": "code",
      "source": [],
      "metadata": {
        "id": "uWI8gRYC1IYB"
      },
      "execution_count": null,
      "outputs": []
    },
    {
      "cell_type": "code",
      "source": [],
      "metadata": {
        "id": "3ku2c9-A1IbG"
      },
      "execution_count": null,
      "outputs": []
    },
    {
      "cell_type": "code",
      "source": [],
      "metadata": {
        "id": "VX4p8TnY1Id-"
      },
      "execution_count": null,
      "outputs": []
    },
    {
      "cell_type": "code",
      "source": [
        "!pip install plotly==5.16.0"
      ],
      "metadata": {
        "id": "CtoouxLXzba8"
      },
      "execution_count": null,
      "outputs": []
    },
    {
      "cell_type": "code",
      "source": [
        "# plotly standard imports\n",
        "import plotly.graph_objs as go\n",
        "#\n",
        "\n",
        "# Cufflinks wrapper on plotly\n",
        "import cufflinks\n",
        "\n",
        "# Data science imports\n",
        "import pandas as pd\n",
        "import numpy as np\n",
        "\n",
        "# Options for pandas\n",
        "pd.options.display.max_columns = 30\n",
        "\n",
        "# Display all cell outputs\n",
        "from IPython.core.interactiveshell import InteractiveShell\n",
        "\n",
        "InteractiveShell.ast_node_interactivity = \"all\""
      ],
      "metadata": {
        "id": "46jv9N1zZfwK"
      },
      "execution_count": null,
      "outputs": []
    },
    {
      "cell_type": "code",
      "source": [
        "from plotly.offline import iplot\n",
        "\n",
        "cufflinks.go_offline()\n",
        "\n",
        "# Set global theme\n",
        "cufflinks.set_config_file(world_readable=True, theme=\"pearl\")"
      ],
      "metadata": {
        "id": "rb0YUeNDq9xN"
      },
      "execution_count": null,
      "outputs": []
    },
    {
      "cell_type": "code",
      "source": [
        "df = top_reviewed_rated.sort_values(\"rating\", ascending = False)\n",
        "#fig = go.Figure(data=go.Scatter(x=df['rating'], y=data['title'], mode='markers', marker=dict(color='red')))\n",
        "\n",
        "df.iplot(\n",
        "    x=\"rating\",\n",
        "    y=\"title\",\n",
        "    xTitle=\"Rating\",\n",
        "    yTitle=\"Title\",\n",
        "    text=\"title\",\n",
        "    mode=\"markers\",\n",
        "    title=\"Book Title vs Rating\",\n",
        ")"
      ],
      "metadata": {
        "id": "92B3v6xrq9zf"
      },
      "execution_count": null,
      "outputs": []
    },
    {
      "cell_type": "code",
      "source": [],
      "metadata": {
        "id": "rGoQzln5q92c"
      },
      "execution_count": null,
      "outputs": []
    },
    {
      "cell_type": "code",
      "source": [
        "df = top_reviewed_rated.sort_values(\"rating\", ascending = False)"
      ],
      "metadata": {
        "id": "BsrrZGy8eyNO"
      },
      "execution_count": null,
      "outputs": []
    },
    {
      "cell_type": "code",
      "source": [
        "#df = top_reviewed_rated.sort_values(\"Country\", ascending = False)\n",
        "\n",
        "ax = sns.barplot(x=\"rating\", y=\"title\", data=top_reviewed_rated, palette=color)\n",
        "\n",
        "fig = go.Figure(data=go.Scatter(x=df['rating'], y=data['title'], mode='markers', marker=dict(color='red')))\n",
        "#fig = px.Scatter(\n",
        "    #df, y='title', x='rating', color='title', size='rating', size_max=20,\n",
        "    #color_continuous_scale = px.colors.sequential.RdBu)\n",
        "fig.update_layout(\n",
        "        paper_bgcolor=\"white\",\n",
        "        plot_bgcolor=\"white\",\n",
        "     )\n",
        "# #fig = px.colors.sequential.swatches_continuous()\n",
        "fig.update_yaxes(showgrid=True, gridwidth=1, gridcolor='LightGray')\n",
        "fig.update_xaxes(showgrid=True, gridwidth=1, gridcolor='LightGray')\n",
        "fig.update_layout(height=500, width=1000)\n",
        "fig.update_coloraxes(colorbar=dict(title='Title'))\n",
        "fig.update_traces(marker=dict(sizeref=0.09))\n",
        "fig.update_yaxes(title=\"Title\")\n",
        "fig.update_xaxes(title='Rating')\n",
        "fig.update_layout(showlegend=True)\n",
        "fig.show()"
      ],
      "metadata": {
        "id": "hYJrMMG5Zfz0"
      },
      "execution_count": null,
      "outputs": []
    },
    {
      "cell_type": "code",
      "source": [
        "N = 100000\n",
        "fig = go.Figure(data=go.Scatter(x=data['rating'], y=data['title'], mode='markers', marker=dict(color='red')))\n",
        "\n",
        "# fig = go.Figure(data=go.Scatter(\n",
        "#     x=[1, 2, 3, 4],\n",
        "#     y=[10, 11, 12, 13],\n",
        "#     mode='markers',\n",
        "#     marker=dict(size=[40, 60, 80, 100],\n",
        "#                 color=[0, 1, 2, 3])\n",
        "# ))\n",
        "\n",
        "fig.show()"
      ],
      "metadata": {
        "id": "9OoTS2rNxOQ4"
      },
      "execution_count": null,
      "outputs": []
    },
    {
      "cell_type": "code",
      "source": [
        "list(set(top_rated_books['title'].values) - set(top_reviewed_rated['title'].values))"
      ],
      "metadata": {
        "id": "x-Cl6cX_xOWR"
      },
      "execution_count": null,
      "outputs": []
    },
    {
      "cell_type": "code",
      "source": [
        "list(set(top_vote['title'].values) - set(top_rated_books['title'].values))"
      ],
      "metadata": {
        "id": "33-KTgbs5N-c"
      },
      "execution_count": null,
      "outputs": []
    },
    {
      "cell_type": "code",
      "source": [
        "data.columns"
      ],
      "metadata": {
        "id": "LYM8RYqj5kf-"
      },
      "execution_count": null,
      "outputs": []
    },
    {
      "cell_type": "code",
      "source": [
        "ax = sns.relplot(data=data, x=\"rating\",y=\"totalratings\" ,color = '#95a3c3', sizes=(100, 200), height=7, marker='o')"
      ],
      "metadata": {
        "id": "XbzU9hia5OBO"
      },
      "execution_count": null,
      "outputs": []
    },
    {
      "cell_type": "code",
      "source": [
        "new_data = data.copy()"
      ],
      "metadata": {
        "id": "Lxo_34Fw5OEb"
      },
      "execution_count": null,
      "outputs": []
    },
    {
      "cell_type": "code",
      "source": [
        "def fun_only_author(text):\n",
        "    arlen = text.split('/')\n",
        "    return arlen[0]"
      ],
      "metadata": {
        "id": "CFUd35DFxOZY"
      },
      "execution_count": null,
      "outputs": []
    },
    {
      "cell_type": "code",
      "source": [
        "new_data['only_author'] = new_data['author'].apply(lambda x : fun_only_author(x))"
      ],
      "metadata": {
        "id": "F6iCiziYxOeD"
      },
      "execution_count": null,
      "outputs": []
    },
    {
      "cell_type": "code",
      "source": [
        "total_rating = new_data.drop_duplicates(subset=['only_author', 'title'], keep='first')\n",
        "total_rating = total_rating.groupby(by=['only_author']).agg({'rating': ['sum']})\n",
        "total_rating.columns = ['totalratings']\n",
        "total_rating.reset_index(inplace=True)\n",
        "total_rating = total_rating.sort_values(by=['totalratings'], ascending=False)\n",
        "total_rating"
      ],
      "metadata": {
        "id": "WwV1g84w6hsV"
      },
      "execution_count": null,
      "outputs": []
    },
    {
      "cell_type": "code",
      "source": [
        "total_book = new_data.groupby(by=['only_author']).agg({'title': ['nunique']})\n",
        "total_book.columns = ['total_book']\n",
        "total_book.reset_index(inplace=True)\n",
        "total_book = total_book.sort_values(by=['total_book'], ascending=False)\n",
        "total_book"
      ],
      "metadata": {
        "id": "1CiIC_sW6hvB"
      },
      "execution_count": null,
      "outputs": []
    },
    {
      "cell_type": "code",
      "source": [
        "avg_author = pd.merge(total_book, total_rating, on='only_author', how='outer')\n",
        "avg_author['rating'] = round(avg_author['totalratings'] / avg_author['total_book'], 2)\n",
        "avg_author = avg_author[avg_author['total_book'] > 26]\n",
        "avg_author = avg_author.sort_values(by=['rating'], ascending=False)\n",
        "avg_author\n"
      ],
      "metadata": {
        "id": "S8-YXBhD6-La"
      },
      "execution_count": null,
      "outputs": []
    },
    {
      "cell_type": "code",
      "source": [
        "new_data.columns"
      ],
      "metadata": {
        "id": "_-dY87zs7jmn"
      },
      "execution_count": null,
      "outputs": []
    },
    {
      "cell_type": "code",
      "source": [
        "total_vote = new_data.drop_duplicates(subset=['only_author', 'title'], keep='first')\n",
        "total_vote.reset_index(inplace=True)\n",
        "total_vote = total_vote[['only_author', 'title', 'rating', 'totalratings']]\n",
        "total_vote"
      ],
      "metadata": {
        "id": "9NO28DEy6-OV"
      },
      "execution_count": null,
      "outputs": []
    },
    {
      "cell_type": "markdown",
      "source": [
        "Average Rating"
      ],
      "metadata": {
        "id": "TDheI7Pq742x"
      }
    },
    {
      "cell_type": "code",
      "source": [
        "C = total_vote.rating.mean()\n",
        "C"
      ],
      "metadata": {
        "id": "7Pg8W2vh74IG"
      },
      "execution_count": null,
      "outputs": []
    },
    {
      "cell_type": "code",
      "source": [
        "m = total_vote.totalratings.quantile(0.9)\n",
        "m"
      ],
      "metadata": {
        "id": "CqqjD6m174LD"
      },
      "execution_count": null,
      "outputs": []
    },
    {
      "cell_type": "code",
      "source": [
        "k = total_vote.totalratings.quantile(0.8)\n",
        "k"
      ],
      "metadata": {
        "id": "iksnHdy174OH"
      },
      "execution_count": null,
      "outputs": []
    },
    {
      "cell_type": "code",
      "source": [
        "total_vote = total_vote[total_vote['totalratings'] >= m]\n",
        "total_vote.head()"
      ],
      "metadata": {
        "id": "lRQ1eueT73fH"
      },
      "execution_count": null,
      "outputs": []
    },
    {
      "cell_type": "code",
      "source": [
        "def weighted_rating(x, m=m, C=C):\n",
        "    v = x['totalratings']\n",
        "    R = x['rating']\n",
        "    return (v/(v+m) * R) + (m/(m+v) * C)"
      ],
      "metadata": {
        "id": "052WpYh373mf"
      },
      "execution_count": null,
      "outputs": []
    },
    {
      "cell_type": "code",
      "source": [
        "total_vote['score'] = total_vote.apply(weighted_rating, axis=1)"
      ],
      "metadata": {
        "id": "Ixkg7hDF8aCM"
      },
      "execution_count": null,
      "outputs": []
    },
    {
      "cell_type": "code",
      "source": [
        "total_vote = total_vote.sort_values(by='score', ascending=False).head(20)\n",
        "total_vote.head()"
      ],
      "metadata": {
        "id": "1OzozYAx8aEj"
      },
      "execution_count": null,
      "outputs": []
    },
    {
      "cell_type": "markdown",
      "source": [
        "Top 20 Weighted Rating Books"
      ],
      "metadata": {
        "id": "PwSxuE8z9QTA"
      }
    },
    {
      "cell_type": "code",
      "source": [
        "sns.set(style=\"darkgrid\")\n",
        "plt.figure(figsize=(10, 10))\n",
        "\n",
        "color = sns.color_palette(\"Set2\")\n",
        "ax = sns.barplot(x=\"score\", y=\"title\", data=total_vote, palette=color)\n",
        "\n",
        "for i in ax.patches:\n",
        "    ax.text(i.get_width() + .05, i.get_y() + 0.5, str(i.get_width()), fontsize = 10, color = 'k')\n",
        "plt.title(\"Top 20 Weighted Rating Books\")\n",
        "plt.show()"
      ],
      "metadata": {
        "id": "U8TnaPEQ8aHc"
      },
      "execution_count": null,
      "outputs": []
    },
    {
      "cell_type": "markdown",
      "source": [
        "Most books of an author"
      ],
      "metadata": {
        "id": "Y8EQif619T6T"
      }
    },
    {
      "cell_type": "code",
      "source": [
        "sns.set(style=\"darkgrid\")\n",
        "plt.figure(figsize=(10, 10))\n",
        "\n",
        "color = sns.color_palette(\"Set2\")\n",
        "ax = sns.barplot(x=\"total_book\", y=\"only_author\", data=avg_author, palette=color)\n",
        "\n",
        "for i in ax.patches:\n",
        "    ax.text(i.get_width() + .05, i.get_y() + 0.5, str(i.get_width()), fontsize = 10, color = 'k')\n",
        "plt.show()"
      ],
      "metadata": {
        "id": "OH61K14d9RKW"
      },
      "execution_count": null,
      "outputs": []
    },
    {
      "cell_type": "code",
      "source": [
        "sns.set(style=\"darkgrid\")\n",
        "plt.figure(figsize=(10, 10))\n",
        "\n",
        "color = sns.color_palette(\"Set2\")\n",
        "ax = sns.barplot(x=\"rating\", y=\"only_author\", data=avg_author, palette=color)\n",
        "\n",
        "for i in ax.patches:\n",
        "    ax.text(i.get_width() + .05, i.get_y() + 0.5, str(i.get_width()), fontsize = 10, color = 'k')\n",
        "plt.show()"
      ],
      "metadata": {
        "id": "rW-mVzlt9gYF"
      },
      "execution_count": null,
      "outputs": []
    },
    {
      "cell_type": "code",
      "source": [
        "data.columns"
      ],
      "metadata": {
        "id": "2rM8jb0Q94_Q"
      },
      "execution_count": null,
      "outputs": []
    },
    {
      "cell_type": "code",
      "source": [
        "top_pages = data.sort_values(by='pages', ascending=False).head(20)"
      ],
      "metadata": {
        "id": "S0ieRDlA9p6y"
      },
      "execution_count": null,
      "outputs": []
    },
    {
      "cell_type": "code",
      "source": [
        "sns.set(style=\"darkgrid\")\n",
        "plt.figure(figsize=(10, 10))\n",
        "\n",
        "color = sns.color_palette(\"Set2\")\n",
        "ax = sns.barplot(x=\"pages\", y=\"title\", data=top_pages, palette=color)\n",
        "\n",
        "for i in ax.patches:\n",
        "    ax.text(i.get_width() + .05, i.get_y() + 0.5, str(i.get_width()), fontsize = 10, color = 'k')\n",
        "plt.show()"
      ],
      "metadata": {
        "id": "tRqWOwHv9p9t"
      },
      "execution_count": null,
      "outputs": []
    },
    {
      "cell_type": "markdown",
      "source": [
        "Relationship between rating and page"
      ],
      "metadata": {
        "id": "vhZAplnM-MKE"
      }
    },
    {
      "cell_type": "code",
      "source": [
        "ax = sns.relplot(data=data, x=\"rating\", y=\"pages\", color = '#95a3c3', sizes=(100, 200), height=7, marker='o')"
      ],
      "metadata": {
        "id": "2MYMn5o6-Kxy"
      },
      "execution_count": null,
      "outputs": []
    },
    {
      "cell_type": "markdown",
      "source": [
        "Relationship between pages and totalratings"
      ],
      "metadata": {
        "id": "p4LWQQSE-bHc"
      }
    },
    {
      "cell_type": "code",
      "source": [
        "ax = sns.relplot(data=data, x=\"pages\", y=\"totalratings\", color = '#95a3c3', sizes=(100, 200), height=7, marker='o')"
      ],
      "metadata": {
        "id": "tsZX2UTt-XV5"
      },
      "execution_count": null,
      "outputs": []
    },
    {
      "cell_type": "code",
      "source": [
        "title_value = data.title.unique()"
      ],
      "metadata": {
        "id": "9Si9KOBV-XY2"
      },
      "execution_count": null,
      "outputs": []
    },
    {
      "cell_type": "code",
      "source": [
        "from wordcloud import WordCloud, STOPWORDS, ImageColorGenerator"
      ],
      "metadata": {
        "id": "3HDchDsl-Xbg"
      },
      "execution_count": null,
      "outputs": []
    },
    {
      "cell_type": "code",
      "source": [
        "len(new_data.only_author.unique())"
      ],
      "metadata": {
        "id": "zUNLXNh3-XeV"
      },
      "execution_count": null,
      "outputs": []
    },
    {
      "cell_type": "code",
      "source": [
        "new_data.loc[ (new_data['rating'] >= 0) & (new_data['rating'] <= 1), 'rating_between'] = \"between_0_to_1\"\n",
        "new_data.loc[ (new_data['rating'] > 1) & (new_data['rating'] <= 2), 'rating_between'] = \"between_1_to_2\"\n",
        "new_data.loc[ (new_data['rating'] > 2) & (new_data['rating'] <= 3), 'rating_between'] = \"between_2_to_3\"\n",
        "new_data.loc[ (new_data['rating'] > 3) & (new_data['rating'] <= 4), 'rating_between'] = \"between_3_to_4\"\n",
        "new_data.loc[ (new_data['rating'] > 4) & (new_data['rating'] <= 5), 'rating_between'] = \"between_4_to_5\""
      ],
      "metadata": {
        "id": "mTj57qZ8-Xhb"
      },
      "execution_count": null,
      "outputs": []
    },
    {
      "cell_type": "code",
      "source": [
        "new_data.head(2)"
      ],
      "metadata": {
        "id": "gxDCOQf5-XlC"
      },
      "execution_count": null,
      "outputs": []
    },
    {
      "cell_type": "code",
      "source": [
        "trial = new_data[['rating', 'totalratings']]\n",
        "data_model = np.asarray([np.asarray(trial['rating']), np.asarray(trial['totalratings'])]).T\n",
        "data_model"
      ],
      "metadata": {
        "id": "RU6oqrPY_mfC"
      },
      "execution_count": null,
      "outputs": []
    },
    {
      "cell_type": "code",
      "source": [
        "from sklearn.cluster import KMeans"
      ],
      "metadata": {
        "id": "6lO1f7PX_yy5"
      },
      "execution_count": null,
      "outputs": []
    },
    {
      "cell_type": "code",
      "source": [
        "# Elbow Method\n",
        "\n",
        "score = []\n",
        "x = data_model\n",
        "for cluster in range(1,41):\n",
        "    kmeans = KMeans(n_clusters = cluster, init=\"k-means++\", random_state=40)\n",
        "    kmeans.fit(x)\n",
        "    score.append(kmeans.inertia_)"
      ],
      "metadata": {
        "id": "8RyLSCS4_y10"
      },
      "execution_count": null,
      "outputs": []
    },
    {
      "cell_type": "code",
      "source": [
        "# plotting the score\n",
        "plt.figure(figsize=(15, 10))\n",
        "plt.plot(range(1,41), score)\n",
        "plt.title('The Elbow Method')\n",
        "# plt.xlabel('no of clusters')\n",
        "# plt.ylabel('wcss')\n",
        "plt.show()"
      ],
      "metadata": {
        "id": "SIIdG_yB_y4x"
      },
      "execution_count": null,
      "outputs": []
    },
    {
      "cell_type": "code",
      "source": [
        "rating_between_df = new_data['rating_between'].str.get_dummies(sep=\",\")\n",
        "rating_between_df.head()"
      ],
      "metadata": {
        "id": "eEjOAk8H_mhv"
      },
      "execution_count": null,
      "outputs": []
    },
    {
      "cell_type": "code",
      "source": [],
      "metadata": {
        "id": "T-MFP1SA_mlG"
      },
      "execution_count": null,
      "outputs": []
    },
    {
      "cell_type": "code",
      "source": [
        "engine_features = pd.concat([rating_between_df,new_data['rating'], new_data['totalratings']], axis=1)\n",
        "engine_features.head()"
      ],
      "metadata": {
        "id": "BuPebvOeAzhf"
      },
      "execution_count": null,
      "outputs": []
    },
    {
      "cell_type": "code",
      "source": [
        "from sklearn.preprocessing import MinMaxScaler\n",
        "min_max_scaler = MinMaxScaler()\n",
        "engine_features = min_max_scaler.fit_transform(engine_features)"
      ],
      "metadata": {
        "id": "jikaFvIpAzkg"
      },
      "execution_count": null,
      "outputs": []
    },
    {
      "cell_type": "code",
      "source": [
        "from sklearn import neighbors"
      ],
      "metadata": {
        "id": "mJg-m1pFAzpG"
      },
      "execution_count": null,
      "outputs": []
    },
    {
      "cell_type": "code",
      "source": [
        "engine_model = neighbors.NearestNeighbors(n_neighbors=10, algorithm='ball_tree')"
      ],
      "metadata": {
        "id": "wOhkHD25Azsc"
      },
      "execution_count": null,
      "outputs": []
    },
    {
      "cell_type": "code",
      "source": [
        "engine_model.fit(engine_features)"
      ],
      "metadata": {
        "id": "hP1G9VyoAzun"
      },
      "execution_count": null,
      "outputs": []
    },
    {
      "cell_type": "code",
      "source": [
        "dist, idlist = engine_model.kneighbors(engine_features)"
      ],
      "metadata": {
        "id": "3Vw0kTfB9qAd"
      },
      "execution_count": null,
      "outputs": []
    },
    {
      "cell_type": "code",
      "source": [
        "def book_recommendation_engine(book_name):\n",
        "    book_list_name = []\n",
        "    book_id = new_data[new_data['title'] == book_name].index\n",
        "    book_id = book_id[0]\n",
        "#     print('book_id', book_id)\n",
        "    for newid in idlist[book_id]:\n",
        "#         print(newid)\n",
        "        book_list_name.append(new_data.loc[newid].title)\n",
        "#         print(new_data.loc[newid].title)\n",
        "    return book_list_name"
      ],
      "metadata": {
        "id": "NL38Ve8B9gbR"
      },
      "execution_count": null,
      "outputs": []
    },
    {
      "cell_type": "code",
      "source": [
        "book_list_name = book_recommendation_engine('Harry Potter and the Deathly Hallows')\n",
        "book_list_name"
      ],
      "metadata": {
        "id": "l9KqBlgU9gev"
      },
      "execution_count": null,
      "outputs": []
    },
    {
      "cell_type": "code",
      "source": [],
      "metadata": {
        "id": "vPkCfmo09ghr"
      },
      "execution_count": null,
      "outputs": []
    },
    {
      "cell_type": "code",
      "source": [],
      "metadata": {
        "id": "lsCzehQk9RTR"
      },
      "execution_count": null,
      "outputs": []
    },
    {
      "cell_type": "code",
      "source": [],
      "metadata": {
        "id": "09qmeoXI9RWO"
      },
      "execution_count": null,
      "outputs": []
    },
    {
      "cell_type": "code",
      "source": [],
      "metadata": {
        "id": "pY9Mo-OVYnb3"
      },
      "execution_count": null,
      "outputs": []
    },
    {
      "cell_type": "code",
      "source": [],
      "metadata": {
        "id": "VTMSgVqtt84s"
      },
      "execution_count": null,
      "outputs": []
    },
    {
      "cell_type": "code",
      "source": [],
      "metadata": {
        "id": "HVMi02_rM1_4"
      },
      "execution_count": null,
      "outputs": []
    },
    {
      "cell_type": "code",
      "source": [],
      "metadata": {
        "id": "6UG9sJG0M2Cd"
      },
      "execution_count": null,
      "outputs": []
    },
    {
      "cell_type": "code",
      "source": [],
      "metadata": {
        "id": "vzo6xXFNM2FE"
      },
      "execution_count": null,
      "outputs": []
    },
    {
      "cell_type": "code",
      "source": [],
      "metadata": {
        "id": "HZR9If7-659A"
      },
      "execution_count": null,
      "outputs": []
    },
    {
      "cell_type": "code",
      "source": [],
      "metadata": {
        "id": "cwtbdTHqu6Yw"
      },
      "execution_count": null,
      "outputs": []
    },
    {
      "cell_type": "code",
      "source": [],
      "metadata": {
        "id": "QHffhoSfuuB9"
      },
      "execution_count": null,
      "outputs": []
    }
  ]
}